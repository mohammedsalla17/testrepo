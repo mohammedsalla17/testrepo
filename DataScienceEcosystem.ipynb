{
 "cells": [
  {
   "cell_type": "markdown",
   "id": "b3d1f6fe-63fd-4538-9426-a46667456a9b",
   "metadata": {
    "tags": []
   },
   "source": [
    "# Data Science Tools and Ecosystem"
   ]
  },
  {
   "cell_type": "markdown",
   "id": "a58dd7c2-1e07-4331-aad1-0ef75aacec61",
   "metadata": {},
   "source": [
    "In this notebook, Data Science Tools and Ecosystem are summarized."
   ]
  },
  {
   "cell_type": "markdown",
   "id": "6885aabe-4675-4964-acba-926789f1a0df",
   "metadata": {},
   "source": [
    "__Objectives:__\n",
    "- Python\n",
    "- R\n",
    "- SQL\n",
    "- Github"
   ]
  },
  {
   "cell_type": "markdown",
   "id": "6c8627d9-d8df-4f4e-b425-405ffd625bb7",
   "metadata": {},
   "source": [
    "Some of the popular languages that Data Scientists use are:"
   ]
  },
  {
   "cell_type": "markdown",
   "id": "601b23d3-1de3-4f2f-91dc-9b67dcd6d71d",
   "metadata": {},
   "source": [
    "1. Python\n",
    "2. R\n",
    "3. SQL"
   ]
  },
  {
   "cell_type": "markdown",
   "id": "5d259647-b3f0-4ec0-9e3c-5bb238914078",
   "metadata": {},
   "source": [
    "Some of the commonly used libraries used by Data Scientists include:\n"
   ]
  },
  {
   "cell_type": "markdown",
   "id": "0df18888-1978-4231-b7b3-a0c4a7def79d",
   "metadata": {},
   "source": [
    "1. NumPy\n",
    "2. SciPy\n",
    "3. Keras"
   ]
  },
  {
   "cell_type": "markdown",
   "id": "ade7b2d6-5933-4d25-8a4e-58ca9f9d6e8e",
   "metadata": {},
   "source": [
    "| Data Science Tools |\n",
    "|:------------------|\n",
    "| Pandas |\n",
    "| Hadoop |\n",
    "| Spark |\n"
   ]
  },
  {
   "cell_type": "markdown",
   "id": "c3546f0b-663e-4222-bb26-71e39cd662a5",
   "metadata": {},
   "source": [
    "### Below are a few examples of evaluating arithmetic expressions in Python"
   ]
  },
  {
   "cell_type": "code",
   "execution_count": 3,
   "id": "5b89f5df-59e1-438d-a597-2c8e63180e35",
   "metadata": {
    "tags": []
   },
   "outputs": [],
   "source": [
    "# This a simple arithmetic expression to mutiply then add integers"
   ]
  },
  {
   "cell_type": "code",
   "execution_count": 1,
   "id": "a2e27632-f0fb-4919-afcd-b8830a461457",
   "metadata": {
    "tags": []
   },
   "outputs": [
    {
     "data": {
      "text/plain": [
       "17"
      ]
     },
     "execution_count": 1,
     "metadata": {},
     "output_type": "execute_result"
    }
   ],
   "source": [
    "(3*4)+5"
   ]
  },
  {
   "cell_type": "code",
   "execution_count": 4,
   "id": "f74e1c18-25a4-42e5-ad00-a6cf337ed0b7",
   "metadata": {
    "tags": []
   },
   "outputs": [],
   "source": [
    "# This will convert 200 minutes to hours by diving by 60"
   ]
  },
  {
   "cell_type": "code",
   "execution_count": 5,
   "id": "f6f833b3-7f22-4144-ad70-6612c5f8bcb3",
   "metadata": {
    "tags": []
   },
   "outputs": [
    {
     "data": {
      "text/plain": [
       "3.3333333333333335"
      ]
     },
     "execution_count": 5,
     "metadata": {},
     "output_type": "execute_result"
    }
   ],
   "source": [
    "200/60"
   ]
  },
  {
   "cell_type": "markdown",
   "id": "135d8078-2d7b-4431-a117-6c319a9b7da0",
   "metadata": {},
   "source": [
    "## Author\n",
    "Mohammad Salla"
   ]
  },
  {
   "cell_type": "code",
   "execution_count": null,
   "id": "e1605d5b-7eef-4622-8256-f2eebd166932",
   "metadata": {},
   "outputs": [],
   "source": []
  }
 ],
 "metadata": {
  "kernelspec": {
   "display_name": "Python",
   "language": "python",
   "name": "conda-env-python-py"
  },
  "language_info": {
   "codemirror_mode": {
    "name": "ipython",
    "version": 3
   },
   "file_extension": ".py",
   "mimetype": "text/x-python",
   "name": "python",
   "nbconvert_exporter": "python",
   "pygments_lexer": "ipython3",
   "version": "3.7.12"
  }
 },
 "nbformat": 4,
 "nbformat_minor": 5
}
